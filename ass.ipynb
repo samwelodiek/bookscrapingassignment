{
 "cells": [
  {
   "cell_type": "code",
   "execution_count": 1,
   "id": "1a230760",
   "metadata": {},
   "outputs": [],
   "source": [
    "import requests\n",
    "from bs4 import BeautifulSoup\n",
    "from datetime import datetime\n",
    "import json\n",
    "import csv\n",
    "import re\n",
    "\n",
    "def scrape_books():\n",
    "    \"\"\"Scrape book data from books.toscrape.com with robust price extraction\"\"\"\n",
    "    url = \"https://books.toscrape.com/\"\n",
    "    \n",
    "    try:\n",
    "        headers = {\n",
    "            'User-Agent': 'Mozilla/5.0 (Windows NT 10.0; Win64; x64) AppleWebKit/537.36'\n",
    "        }\n",
    "        response = requests.get(url, headers=headers, timeout=10)\n",
    "        response.raise_for_status()\n",
    "        \n",
    "        soup = BeautifulSoup(response.content, 'html.parser')\n",
    "        books = soup.find_all('article', class_='product_pod')[:10]\n",
    "        \n",
    "        book_data = []\n",
    "        for book in books:\n",
    "            title = book.h3.a['title']\n",
    "            price_element = book.find('p', class_='price_color')\n",
    "            \n",
    "            # Extract price using regex to find numbers\n",
    "            price_text = price_element.text\n",
    "            price_match = re.search(r'[\\d\\.]+', price_text)\n",
    "            \n",
    "            if price_match:\n",
    "                price_value = float(price_match.group())\n",
    "            else:\n",
    "                # Fallback: try to extract from the HTML directly\n",
    "                price_html = str(price_element)\n",
    "                price_match = re.search(r'[\\d\\.]+', price_html)\n",
    "                price_value = float(price_match.group()) if price_match else 0.0\n",
    "            \n",
    "            book_data.append({\n",
    "                'title': title,\n",
    "                'price_gbp': price_value,\n",
    "                'scraped_at': datetime.now().isoformat()\n",
    "            })\n",
    "            \n",
    "        return book_data\n",
    "        \n",
    "    except Exception as e:\n",
    "        print(f\"Error during scraping: {e}\")\n",
    "        return []\n",
    "\n",
    "# The rest of the functions remain the same as in the first solution"
   ]
  }
 ],
 "metadata": {
  "kernelspec": {
   "display_name": "venv",
   "language": "python",
   "name": "python3"
  },
  "language_info": {
   "codemirror_mode": {
    "name": "ipython",
    "version": 3
   },
   "file_extension": ".py",
   "mimetype": "text/x-python",
   "name": "python",
   "nbconvert_exporter": "python",
   "pygments_lexer": "ipython3",
   "version": "3.13.7"
  }
 },
 "nbformat": 4,
 "nbformat_minor": 5
}
